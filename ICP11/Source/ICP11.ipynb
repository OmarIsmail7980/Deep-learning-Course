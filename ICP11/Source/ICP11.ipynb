{
  "nbformat": 4,
  "nbformat_minor": 0,
  "metadata": {
    "colab": {
      "name": "Untitled3.ipynb",
      "provenance": []
    },
    "kernelspec": {
      "name": "python3",
      "display_name": "Python 3"
    },
    "language_info": {
      "name": "python"
    },
    "accelerator": "GPU"
  },
  "cells": [
    {
      "cell_type": "code",
      "metadata": {
        "colab": {
          "base_uri": "https://localhost:8080/"
        },
        "id": "o4kvJL0_BcOH",
        "outputId": "cae44d2c-8ca4-4448-c36d-fb4e5458ab1e"
      },
      "source": [
        "!pip install numpy\n",
        "!pip install Keras\n"
      ],
      "execution_count": 14,
      "outputs": [
        {
          "output_type": "stream",
          "text": [
            "Requirement already satisfied: numpy in /usr/local/lib/python3.7/dist-packages (1.19.5)\n",
            "Requirement already satisfied: Keras in /usr/local/lib/python3.7/dist-packages (2.4.3)\n",
            "Requirement already satisfied: h5py in /usr/local/lib/python3.7/dist-packages (from Keras) (2.10.0)\n",
            "Requirement already satisfied: numpy>=1.9.1 in /usr/local/lib/python3.7/dist-packages (from Keras) (1.19.5)\n",
            "Requirement already satisfied: scipy>=0.14 in /usr/local/lib/python3.7/dist-packages (from Keras) (1.4.1)\n",
            "Requirement already satisfied: pyyaml in /usr/local/lib/python3.7/dist-packages (from Keras) (3.13)\n",
            "Requirement already satisfied: six in /usr/local/lib/python3.7/dist-packages (from h5py->Keras) (1.15.0)\n"
          ],
          "name": "stdout"
        }
      ]
    },
    {
      "cell_type": "code",
      "metadata": {
        "colab": {
          "base_uri": "https://localhost:8080/"
        },
        "id": "eai4JgJVBNiC",
        "outputId": "4a3c9978-0293-4eeb-f8b2-5bb896f431c9"
      },
      "source": [
        "# Simple CNN model for CIFAR-10\n",
        "import numpy\n",
        "#from convnetwork import FCLayer\n",
        "from keras.datasets import cifar10\n",
        "from keras.models import Sequential\n",
        "from keras.layers import Dense\n",
        "from keras.layers import Dropout\n",
        "from keras.layers import Flatten\n",
        "from keras.constraints import maxnorm\n",
        "from keras.optimizers import SGD\n",
        "from keras.layers.convolutional import Conv2D\n",
        "from keras.layers.convolutional import MaxPooling2D\n",
        "from keras.utils import np_utils\n",
        "from keras import backend as K\n",
        "K.set_image_data_format('channels_first')\n",
        "\n",
        "\n",
        "# fix random seed for reproducibility\n",
        "seed = 7\n",
        "numpy.random.seed(seed)\n",
        "# load data\n",
        "(X_train, y_train), (X_test, y_test) = cifar10.load_data()\n",
        "# normalize inputs from 0-255 to 0.0-1.0\n",
        "X_train = X_train.astype('float32')\n",
        "X_test = X_test.astype('float32')\n",
        "X_train = X_train / 255.0\n",
        "X_test = X_test / 255.0\n",
        "# one hot encode outputs\n",
        "y_train = np_utils.to_categorical(y_train)\n",
        "y_test = np_utils.to_categorical(y_test)\n",
        "num_classes = y_test.shape[1]\n",
        "# Create the model\n",
        "model = Sequential()\n",
        "model.add(Conv2D(32, (3, 3), input_shape=(3, 32, 32), padding='same', activation='relu', kernel_constraint=maxnorm(3)))\n",
        "model.add(Dropout(0.2))\n",
        "model.add(Conv2D(32, (3, 3), activation='relu', padding='same', kernel_constraint=maxnorm(3)))\n",
        "model.add(MaxPooling2D(pool_size=(2, 2)))\n",
        "model.add(Flatten())\n",
        "model.add(Dense(512, activation='relu', kernel_constraint=maxnorm(3)))\n",
        "model.add(Dropout(0.5))\n",
        "model.add(Dense(num_classes, activation='softmax'))\n",
        "# Compile model\n",
        "epochs = 25\n",
        "lrate = 0.01\n",
        "decay = lrate/epochs\n",
        "sgd = SGD(lr=lrate, momentum=0.9, decay=decay, nesterov=False)\n",
        "model.compile(loss='categorical_crossentropy', optimizer=sgd, metrics=['accuracy'])\n",
        "print(model.summary())\n",
        "# Fit the model\n",
        "model.fit(X_train, y_train, validation_data=(X_test, y_test), epochs=epochs, batch_size=32)\n",
        "# Final evaluation of the model\n",
        "scores = model.evaluate(X_test, y_test, verbose=0)\n",
        "print(\"Accuracy: %.2f%%\" % (scores[1]*100))\n",
        "\n"
      ],
      "execution_count": 19,
      "outputs": [
        {
          "output_type": "stream",
          "text": [
            "Model: \"sequential_5\"\n",
            "_________________________________________________________________\n",
            "Layer (type)                 Output Shape              Param #   \n",
            "=================================================================\n",
            "conv2d_16 (Conv2D)           (None, 32, 32, 32)        896       \n",
            "_________________________________________________________________\n",
            "dropout_6 (Dropout)          (None, 32, 32, 32)        0         \n",
            "_________________________________________________________________\n",
            "conv2d_17 (Conv2D)           (None, 32, 32, 32)        9248      \n",
            "_________________________________________________________________\n",
            "max_pooling2d_10 (MaxPooling (None, 32, 16, 16)        0         \n",
            "_________________________________________________________________\n",
            "flatten_1 (Flatten)          (None, 8192)              0         \n",
            "_________________________________________________________________\n",
            "dense_2 (Dense)              (None, 512)               4194816   \n",
            "_________________________________________________________________\n",
            "dropout_7 (Dropout)          (None, 512)               0         \n",
            "_________________________________________________________________\n",
            "dense_3 (Dense)              (None, 10)                5130      \n",
            "=================================================================\n",
            "Total params: 4,210,090\n",
            "Trainable params: 4,210,090\n",
            "Non-trainable params: 0\n",
            "_________________________________________________________________\n",
            "None\n",
            "Epoch 1/25\n",
            "1563/1563 [==============================] - 9s 6ms/step - loss: 1.8904 - accuracy: 0.3102 - val_loss: 1.3360 - val_accuracy: 0.5241\n",
            "Epoch 2/25\n",
            "1563/1563 [==============================] - 9s 6ms/step - loss: 1.3460 - accuracy: 0.5177 - val_loss: 1.1850 - val_accuracy: 0.5795\n",
            "Epoch 3/25\n",
            "1563/1563 [==============================] - 9s 6ms/step - loss: 1.1520 - accuracy: 0.5905 - val_loss: 1.1089 - val_accuracy: 0.6065\n",
            "Epoch 4/25\n",
            "1563/1563 [==============================] - 9s 6ms/step - loss: 1.0297 - accuracy: 0.6317 - val_loss: 1.0186 - val_accuracy: 0.6381\n",
            "Epoch 5/25\n",
            "1563/1563 [==============================] - 9s 6ms/step - loss: 0.9405 - accuracy: 0.6693 - val_loss: 0.9844 - val_accuracy: 0.6510\n",
            "Epoch 6/25\n",
            "1563/1563 [==============================] - 9s 6ms/step - loss: 0.8614 - accuracy: 0.6929 - val_loss: 0.9566 - val_accuracy: 0.6620\n",
            "Epoch 7/25\n",
            "1563/1563 [==============================] - 9s 6ms/step - loss: 0.7801 - accuracy: 0.7264 - val_loss: 0.9332 - val_accuracy: 0.6731\n",
            "Epoch 8/25\n",
            "1563/1563 [==============================] - 9s 6ms/step - loss: 0.7210 - accuracy: 0.7474 - val_loss: 0.9401 - val_accuracy: 0.6737\n",
            "Epoch 9/25\n",
            "1563/1563 [==============================] - 9s 6ms/step - loss: 0.6726 - accuracy: 0.7631 - val_loss: 0.9339 - val_accuracy: 0.6769\n",
            "Epoch 10/25\n",
            "1563/1563 [==============================] - 9s 6ms/step - loss: 0.6171 - accuracy: 0.7822 - val_loss: 0.9398 - val_accuracy: 0.6811\n",
            "Epoch 11/25\n",
            "1563/1563 [==============================] - 9s 6ms/step - loss: 0.5714 - accuracy: 0.7984 - val_loss: 0.9408 - val_accuracy: 0.6865\n",
            "Epoch 12/25\n",
            "1563/1563 [==============================] - 9s 6ms/step - loss: 0.5283 - accuracy: 0.8121 - val_loss: 0.9544 - val_accuracy: 0.6878\n",
            "Epoch 13/25\n",
            "1563/1563 [==============================] - 9s 6ms/step - loss: 0.4865 - accuracy: 0.8267 - val_loss: 0.9444 - val_accuracy: 0.6893\n",
            "Epoch 14/25\n",
            "1563/1563 [==============================] - 9s 6ms/step - loss: 0.4618 - accuracy: 0.8375 - val_loss: 0.9731 - val_accuracy: 0.6944\n",
            "Epoch 15/25\n",
            "1563/1563 [==============================] - 9s 6ms/step - loss: 0.4281 - accuracy: 0.8488 - val_loss: 0.9694 - val_accuracy: 0.6917\n",
            "Epoch 16/25\n",
            "1563/1563 [==============================] - 9s 6ms/step - loss: 0.4022 - accuracy: 0.8587 - val_loss: 0.9697 - val_accuracy: 0.6990\n",
            "Epoch 17/25\n",
            "1563/1563 [==============================] - 9s 6ms/step - loss: 0.3718 - accuracy: 0.8689 - val_loss: 0.9991 - val_accuracy: 0.6965\n",
            "Epoch 18/25\n",
            "1563/1563 [==============================] - 9s 5ms/step - loss: 0.3532 - accuracy: 0.8780 - val_loss: 1.0155 - val_accuracy: 0.6946\n",
            "Epoch 19/25\n",
            "1563/1563 [==============================] - 9s 6ms/step - loss: 0.3281 - accuracy: 0.8817 - val_loss: 1.0131 - val_accuracy: 0.7016\n",
            "Epoch 20/25\n",
            "1563/1563 [==============================] - 9s 6ms/step - loss: 0.3117 - accuracy: 0.8900 - val_loss: 1.0048 - val_accuracy: 0.7002\n",
            "Epoch 21/25\n",
            "1563/1563 [==============================] - 9s 5ms/step - loss: 0.2921 - accuracy: 0.8968 - val_loss: 1.0405 - val_accuracy: 0.6966\n",
            "Epoch 22/25\n",
            "1563/1563 [==============================] - 9s 5ms/step - loss: 0.2861 - accuracy: 0.8986 - val_loss: 1.0663 - val_accuracy: 0.7017\n",
            "Epoch 23/25\n",
            "1563/1563 [==============================] - 9s 6ms/step - loss: 0.2678 - accuracy: 0.9034 - val_loss: 1.0648 - val_accuracy: 0.6985\n",
            "Epoch 24/25\n",
            "1563/1563 [==============================] - 9s 6ms/step - loss: 0.2535 - accuracy: 0.9103 - val_loss: 1.0877 - val_accuracy: 0.6999\n",
            "Epoch 25/25\n",
            "1563/1563 [==============================] - 9s 6ms/step - loss: 0.2411 - accuracy: 0.9156 - val_loss: 1.0788 - val_accuracy: 0.7011\n",
            "Accuracy: 70.11%\n"
          ],
          "name": "stdout"
        }
      ]
    },
    {
      "cell_type": "code",
      "metadata": {
        "colab": {
          "base_uri": "https://localhost:8080/"
        },
        "id": "UpHxeLRpCCcB",
        "outputId": "5382089d-dc21-4a29-8f4c-a3381aab5d6e"
      },
      "source": [
        "# Simple CNN model for CIFAR-10\n",
        "import numpy\n",
        "from keras.datasets import cifar10\n",
        "from keras.models import Sequential\n",
        "from keras.layers import Dense\n",
        "from keras.layers import Dropout\n",
        "from keras.layers import Flatten\n",
        "from keras.constraints import maxnorm\n",
        "from keras.optimizers import SGD\n",
        "from keras.layers.convolutional import Conv2D\n",
        "from keras.layers.convolutional import MaxPooling2D\n",
        "from keras.utils import np_utils\n",
        "from keras import backend as K\n",
        "K.set_image_data_format('channels_first')\n",
        "\n",
        "# fix random seed for reproducibility\n",
        "seed = 7\n",
        "numpy.random.seed(seed)\n",
        "# load data\n",
        "(X_train, y_train), (X_test, y_test) = cifar10.load_data()\n",
        "# normalize inputs from 0-255 to 0.0-1.0\n",
        "X_train = X_train.astype('float32')\n",
        "X_test = X_test.astype('float32')\n",
        "X_train = X_train / 255.0\n",
        "X_test = X_test / 255.0\n",
        "# one hot encode outputs\n",
        "y_train = np_utils.to_categorical(y_train)\n",
        "y_test = np_utils.to_categorical(y_test)\n",
        "num_classes = y_test.shape[1]\n",
        "# Create the model\n",
        "\n",
        "model = Sequential()\n",
        "model.add(Conv2D(32, (3, 3), input_shape=(3, 32, 32), padding='same', activation='relu', kernel_constraint=maxnorm(3)))\n",
        "model.add(Dropout(0.2))\n",
        "model.add(Conv2D(32, (3, 3), activation='relu', padding='same', kernel_constraint=maxnorm(3)))\n",
        "model.add(MaxPooling2D(pool_size=(2, 2)))\n",
        "#additional layers\n",
        "model.add(Conv2D(64, (3, 3), activation='relu', padding='same', kernel_constraint=maxnorm(3)))\n",
        "model.add(Dropout(0.2))\n",
        "model.add(Conv2D(64, (3, 3), activation='relu', padding='same', kernel_constraint=maxnorm(3)))\n",
        "model.add(MaxPooling2D(pool_size=(2, 2)))\n",
        "model.add(Conv2D(128, (3, 3), activation='relu', padding='same', kernel_constraint=maxnorm(3)))\n",
        "model.add(Dropout(0.2))\n",
        "model.add(Conv2D(128, (3, 3), activation='relu', padding='same', kernel_constraint=maxnorm(3)))\n",
        "model.add(MaxPooling2D(pool_size=(2, 2)))\n",
        "\n",
        "model.add(Flatten())\n",
        "#additional layers\n",
        "model.add(Dropout(0.2))\n",
        "model.add(Dense(1024, activation='relu', kernel_constraint=maxnorm(3)))\n",
        "model.add(Dropout(0.2))\n",
        "\n",
        "model.add(Dense(512, activation='relu', kernel_constraint=maxnorm(3)))\n",
        "model.add(Dropout(0.2))\n",
        "\n",
        "model.add(Dense(num_classes, activation='softmax'))\n",
        "# Compile model\n",
        "epochs = 25\n",
        "lrate = 0.01\n",
        "decay = lrate/epochs\n",
        "sgd = SGD(lr=lrate, momentum=0.9, decay=decay, nesterov=False)\n",
        "model.compile(loss='categorical_crossentropy', optimizer=sgd, metrics=['accuracy'])\n",
        "print(model.summary())\n",
        "# Fit the model\n",
        "history = model.fit(X_train, y_train, validation_data=(X_test, y_test), epochs=epochs, batch_size=32)\n",
        "# Final evaluation of the model\n",
        "#scores = history.evaluate(X_test, y_test, verbose=0)\n",
        "#print(\"Accuracy: %.2f%%\" % (scores[1]*100))"
      ],
      "execution_count": 40,
      "outputs": [
        {
          "output_type": "stream",
          "text": [
            "Model: \"sequential_3\"\n",
            "_________________________________________________________________\n",
            "Layer (type)                 Output Shape              Param #   \n",
            "=================================================================\n",
            "conv2d_18 (Conv2D)           (None, 32, 32, 32)        896       \n",
            "_________________________________________________________________\n",
            "dropout_18 (Dropout)         (None, 32, 32, 32)        0         \n",
            "_________________________________________________________________\n",
            "conv2d_19 (Conv2D)           (None, 32, 32, 32)        9248      \n",
            "_________________________________________________________________\n",
            "max_pooling2d_9 (MaxPooling2 (None, 32, 16, 16)        0         \n",
            "_________________________________________________________________\n",
            "conv2d_20 (Conv2D)           (None, 64, 16, 16)        18496     \n",
            "_________________________________________________________________\n",
            "dropout_19 (Dropout)         (None, 64, 16, 16)        0         \n",
            "_________________________________________________________________\n",
            "conv2d_21 (Conv2D)           (None, 64, 16, 16)        36928     \n",
            "_________________________________________________________________\n",
            "max_pooling2d_10 (MaxPooling (None, 64, 8, 8)          0         \n",
            "_________________________________________________________________\n",
            "conv2d_22 (Conv2D)           (None, 128, 8, 8)         73856     \n",
            "_________________________________________________________________\n",
            "dropout_20 (Dropout)         (None, 128, 8, 8)         0         \n",
            "_________________________________________________________________\n",
            "conv2d_23 (Conv2D)           (None, 128, 8, 8)         147584    \n",
            "_________________________________________________________________\n",
            "max_pooling2d_11 (MaxPooling (None, 128, 4, 4)         0         \n",
            "_________________________________________________________________\n",
            "flatten_3 (Flatten)          (None, 2048)              0         \n",
            "_________________________________________________________________\n",
            "dropout_21 (Dropout)         (None, 2048)              0         \n",
            "_________________________________________________________________\n",
            "dense_9 (Dense)              (None, 1024)              2098176   \n",
            "_________________________________________________________________\n",
            "dropout_22 (Dropout)         (None, 1024)              0         \n",
            "_________________________________________________________________\n",
            "dense_10 (Dense)             (None, 512)               524800    \n",
            "_________________________________________________________________\n",
            "dropout_23 (Dropout)         (None, 512)               0         \n",
            "_________________________________________________________________\n",
            "dense_11 (Dense)             (None, 10)                5130      \n",
            "=================================================================\n",
            "Total params: 2,915,114\n",
            "Trainable params: 2,915,114\n",
            "Non-trainable params: 0\n",
            "_________________________________________________________________\n",
            "None\n",
            "Epoch 1/25\n",
            "1563/1563 [==============================] - 12s 7ms/step - loss: 2.0664 - accuracy: 0.2274 - val_loss: 1.5879 - val_accuracy: 0.4220\n",
            "Epoch 2/25\n",
            "1563/1563 [==============================] - 11s 7ms/step - loss: 1.4864 - accuracy: 0.4541 - val_loss: 1.2918 - val_accuracy: 0.5264\n",
            "Epoch 3/25\n",
            "1563/1563 [==============================] - 11s 7ms/step - loss: 1.2576 - accuracy: 0.5459 - val_loss: 1.1340 - val_accuracy: 0.5995\n",
            "Epoch 4/25\n",
            "1563/1563 [==============================] - 11s 7ms/step - loss: 1.0855 - accuracy: 0.6129 - val_loss: 0.9826 - val_accuracy: 0.6489\n",
            "Epoch 5/25\n",
            "1563/1563 [==============================] - 11s 7ms/step - loss: 0.9578 - accuracy: 0.6589 - val_loss: 0.8893 - val_accuracy: 0.6876\n",
            "Epoch 6/25\n",
            "1563/1563 [==============================] - 11s 7ms/step - loss: 0.8721 - accuracy: 0.6906 - val_loss: 0.8093 - val_accuracy: 0.7147\n",
            "Epoch 7/25\n",
            "1563/1563 [==============================] - 11s 7ms/step - loss: 0.7941 - accuracy: 0.7196 - val_loss: 0.7701 - val_accuracy: 0.7327\n",
            "Epoch 8/25\n",
            "1563/1563 [==============================] - 11s 7ms/step - loss: 0.7277 - accuracy: 0.7429 - val_loss: 0.7550 - val_accuracy: 0.7367\n",
            "Epoch 9/25\n",
            "1563/1563 [==============================] - 11s 7ms/step - loss: 0.6806 - accuracy: 0.7587 - val_loss: 0.7391 - val_accuracy: 0.7442\n",
            "Epoch 10/25\n",
            "1563/1563 [==============================] - 11s 7ms/step - loss: 0.6441 - accuracy: 0.7732 - val_loss: 0.6845 - val_accuracy: 0.7658\n",
            "Epoch 11/25\n",
            "1563/1563 [==============================] - 11s 7ms/step - loss: 0.6111 - accuracy: 0.7845 - val_loss: 0.6729 - val_accuracy: 0.7691\n",
            "Epoch 12/25\n",
            "1563/1563 [==============================] - 11s 7ms/step - loss: 0.5782 - accuracy: 0.7960 - val_loss: 0.6544 - val_accuracy: 0.7752\n",
            "Epoch 13/25\n",
            "1563/1563 [==============================] - 11s 7ms/step - loss: 0.5520 - accuracy: 0.8026 - val_loss: 0.6404 - val_accuracy: 0.7785\n",
            "Epoch 14/25\n",
            "1563/1563 [==============================] - 11s 7ms/step - loss: 0.5220 - accuracy: 0.8169 - val_loss: 0.6516 - val_accuracy: 0.7776\n",
            "Epoch 15/25\n",
            "1563/1563 [==============================] - 11s 7ms/step - loss: 0.5018 - accuracy: 0.8247 - val_loss: 0.6424 - val_accuracy: 0.7815\n",
            "Epoch 16/25\n",
            "1563/1563 [==============================] - 11s 7ms/step - loss: 0.4803 - accuracy: 0.8297 - val_loss: 0.6467 - val_accuracy: 0.7801\n",
            "Epoch 17/25\n",
            "1563/1563 [==============================] - 11s 7ms/step - loss: 0.4509 - accuracy: 0.8404 - val_loss: 0.6236 - val_accuracy: 0.7888\n",
            "Epoch 18/25\n",
            "1563/1563 [==============================] - 11s 7ms/step - loss: 0.4420 - accuracy: 0.8411 - val_loss: 0.6115 - val_accuracy: 0.7903\n",
            "Epoch 19/25\n",
            "1563/1563 [==============================] - 11s 7ms/step - loss: 0.4298 - accuracy: 0.8468 - val_loss: 0.6191 - val_accuracy: 0.7919\n",
            "Epoch 20/25\n",
            "1563/1563 [==============================] - 11s 7ms/step - loss: 0.4173 - accuracy: 0.8526 - val_loss: 0.6150 - val_accuracy: 0.7945\n",
            "Epoch 21/25\n",
            "1563/1563 [==============================] - 11s 7ms/step - loss: 0.3964 - accuracy: 0.8598 - val_loss: 0.6136 - val_accuracy: 0.7922\n",
            "Epoch 22/25\n",
            "1563/1563 [==============================] - 11s 7ms/step - loss: 0.3847 - accuracy: 0.8635 - val_loss: 0.6052 - val_accuracy: 0.7989\n",
            "Epoch 23/25\n",
            "1563/1563 [==============================] - 11s 7ms/step - loss: 0.3656 - accuracy: 0.8696 - val_loss: 0.6089 - val_accuracy: 0.7975\n",
            "Epoch 24/25\n",
            "1563/1563 [==============================] - 11s 7ms/step - loss: 0.3516 - accuracy: 0.8759 - val_loss: 0.6145 - val_accuracy: 0.7995\n",
            "Epoch 25/25\n",
            "1563/1563 [==============================] - 11s 7ms/step - loss: 0.3362 - accuracy: 0.8801 - val_loss: 0.6084 - val_accuracy: 0.7994\n"
          ],
          "name": "stdout"
        }
      ]
    },
    {
      "cell_type": "code",
      "metadata": {
        "colab": {
          "base_uri": "https://localhost:8080/"
        },
        "id": "eaasHhjO1SKP",
        "outputId": "499cbe6a-5842-44ae-8960-6ebd9e6aa64a"
      },
      "source": [
        "!pip install matplotlib\n",
        "import matplotlib.pyplot as plt"
      ],
      "execution_count": 19,
      "outputs": [
        {
          "output_type": "stream",
          "text": [
            "Requirement already satisfied: matplotlib in /usr/local/lib/python3.7/dist-packages (3.2.2)\n",
            "Requirement already satisfied: python-dateutil>=2.1 in /usr/local/lib/python3.7/dist-packages (from matplotlib) (2.8.1)\n",
            "Requirement already satisfied: kiwisolver>=1.0.1 in /usr/local/lib/python3.7/dist-packages (from matplotlib) (1.3.1)\n",
            "Requirement already satisfied: cycler>=0.10 in /usr/local/lib/python3.7/dist-packages (from matplotlib) (0.10.0)\n",
            "Requirement already satisfied: numpy>=1.11 in /usr/local/lib/python3.7/dist-packages (from matplotlib) (1.19.5)\n",
            "Requirement already satisfied: pyparsing!=2.0.4,!=2.1.2,!=2.1.6,>=2.0.1 in /usr/local/lib/python3.7/dist-packages (from matplotlib) (2.4.7)\n",
            "Requirement already satisfied: six>=1.5 in /usr/local/lib/python3.7/dist-packages (from python-dateutil>=2.1->matplotlib) (1.15.0)\n"
          ],
          "name": "stdout"
        }
      ]
    },
    {
      "cell_type": "code",
      "metadata": {
        "colab": {
          "base_uri": "https://localhost:8080/"
        },
        "id": "9NJLDsMW4RTg",
        "outputId": "dace4b7c-8ba0-476e-9021-1c66580483a8"
      },
      "source": [
        "!pip install numpy \n",
        "import numpy as np"
      ],
      "execution_count": 26,
      "outputs": [
        {
          "output_type": "stream",
          "text": [
            "Requirement already satisfied: numpy in /usr/local/lib/python3.7/dist-packages (1.19.5)\n"
          ],
          "name": "stdout"
        }
      ]
    },
    {
      "cell_type": "code",
      "metadata": {
        "colab": {
          "base_uri": "https://localhost:8080/",
          "height": 281
        },
        "id": "yTqRuNqL2KHw",
        "outputId": "20b61d98-f869-496e-c437-7d21ea247e77"
      },
      "source": [
        "#draw figure\n",
        "fig = plt.figure(figsize=(25,4))\n",
        "#iterate through ndarray\n",
        "for i in range(4):\n",
        "  ax = fig.add_subplot(1,4,i+1)\n",
        "  #predict the image\n",
        "  y_pred = np.argmax(model.predict(np.expand_dims(X_test[i],axis=0)),axis=-1)\n",
        "  y_actual = np.argmax(y_test[i])\n",
        "  #print the label for actual and predcited\n",
        "  ax.set_title(\"Predicition {} Actual({})\".format(y_pred.item(),y_actual))"
      ],
      "execution_count": 27,
      "outputs": [
        {
          "output_type": "display_data",
          "data": {
            "image/png": "[encoded data removed]",
            "text/plain": [
              "<Figure size 1800x288 with 4 Axes>"
            ]
          },
          "metadata": {
            "tags": [],
            "needs_background": "light"
          }
        }
      ]
    },
    {
      "cell_type": "code",
      "metadata": {
        "colab": {
          "base_uri": "https://localhost:8080/"
        },
        "id": "r6UIv1Tz7etv",
        "outputId": "af4a4665-7c0c-4c63-b913-ab993e53ba09"
      },
      "source": [
        "model.history.history.keys()"
      ],
      "execution_count": 39,
      "outputs": [
        {
          "output_type": "execute_result",
          "data": {
            "text/plain": [
              "dict_keys([])"
            ]
          },
          "metadata": {
            "tags": []
          },
          "execution_count": 39
        }
      ]
    },
    {
      "cell_type": "code",
      "metadata": {
        "colab": {
          "base_uri": "https://localhost:8080/",
          "height": 572
        },
        "id": "N3yrXBMOilmb",
        "outputId": "6ab10844-4600-48d6-8e45-2fa33528c846"
      },
      "source": [
        "#plot train and validation accuracy\n",
        "plt.plot(history.history['accuracy'])\n",
        "plt.plot(history.history['val_accuracy'])\n",
        "plt.ylabel('Accuracy')\n",
        "plt.xlabel('epoch')\n",
        "plt.title('Model Accuracy')\n",
        "plt.legend(['train accuracy','val accuracy'], loc = 'upper left')\n",
        "plt.show()\n",
        "#plot train and validation loss\n",
        "plt.plot(history.history['loss'])\n",
        "plt.plot(history.history['val_loss'])\n",
        "plt.ylabel('loss')\n",
        "plt.xlabel('epoch')\n",
        "plt.title('Model loss')\n",
        "plt.legend(['train loss','val loss'], loc = 'upper left')\n",
        "plt.show()"
      ],
      "execution_count": 41,
      "outputs": [
        {
          "output_type": "display_data",
          "data": {
            "image/png": "[encoded data removed]",
            "text/plain": [
              "<Figure size 432x288 with 1 Axes>"
            ]
          },
          "metadata": {
            "tags": [],
            "needs_background": "light"
          }
        },
        {
          "output_type": "display_data",
          "data": {
            "image/png": "[encoded data removed]",
            "text/plain": [
              "<Figure size 432x288 with 1 Axes>"
            ]
          },
          "metadata": {
            "tags": [],
            "needs_background": "light"
          }
        }
      ]
    },
    {
      "cell_type": "code",
      "metadata": {
        "id": "zpZ_icar1Q7p"
      },
      "source": [
        ""
      ],
      "execution_count": null,
      "outputs": []
    }
  ]
}